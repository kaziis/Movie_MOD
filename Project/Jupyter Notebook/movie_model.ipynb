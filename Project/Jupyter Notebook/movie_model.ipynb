{
 "cells": [
  {
   "attachments": {},
   "cell_type": "markdown",
   "id": "5b4cde02",
   "metadata": {},
   "source": [
    "# Importing Libaries"
   ]
  },
  {
   "cell_type": "code",
   "execution_count": 2,
   "id": "6a65f157",
   "metadata": {},
   "outputs": [],
   "source": [
    "import pandas as pd\n",
    "import numpy as np"
   ]
  },
  {
   "cell_type": "code",
   "execution_count": 3,
   "id": "4756089c",
   "metadata": {},
   "outputs": [],
   "source": [
    "credits_df = pd.read_csv('../csv/tmdb_5000_credits.csv')\n",
    "movies_df = pd.read_csv('../csv/tmdb_5000_movies.csv')"
   ]
  },
  {
   "attachments": {},
   "cell_type": "markdown",
   "id": "effaf1ad",
   "metadata": {},
   "source": [
    "# Data Exploration\n",
    "\n",
    "Explore the data we are dealing with:\n",
    "- Understanding the shape, columns, and rows in the data.\n",
    "- Type of data.\n",
    "- Look for any missing values.\n",
    "- Summarize the differences and similarities between the datasets."
   ]
  },
  {
   "cell_type": "code",
   "execution_count": 4,
   "id": "856a695d",
   "metadata": {},
   "outputs": [
    {
     "name": "stdout",
     "output_type": "stream",
     "text": [
      "The shape of the movies file is: (4803, 20)\n",
      "The shape of the credits file is: (4803, 4)\n"
     ]
    }
   ],
   "source": [
    "print (f'The shape of the movies file is: {movies_df.shape}')\n",
    "print (f'The shape of the credits file is: {credits_df.shape}')\n",
    "\n",
    "# Datasets contain the same amount of columns"
   ]
  },
  {
   "cell_type": "code",
   "execution_count": 16,
   "id": "b57e1535",
   "metadata": {},
   "outputs": [
    {
     "name": "stdout",
     "output_type": "stream",
     "text": [
      "The columns of the movies dataset are: Index(['budget', 'genres', 'homepage', 'id', 'keywords', 'original_language',\n",
      "       'original_title', 'overview', 'popularity', 'production_companies',\n",
      "       'production_countries', 'release_date', 'revenue', 'runtime',\n",
      "       'spoken_languages', 'status', 'tagline', 'title', 'vote_average',\n",
      "       'vote_count'],\n",
      "      dtype='object')\n",
      "\n",
      "The columns of the credits dataset are: Index(['movie_id', 'title', 'cast', 'crew'], dtype='object')\n"
     ]
    }
   ],
   "source": [
    "print (f'The columns of the movies dataset are: {movies_df.columns}\\n')\n",
    "\n",
    "print (f'The columns of the credits dataset are: {credits_df.columns}')\n",
    "\n",
    "# The movies dataset has interesting columns that can be used for the machine learning model. For example, the vote_count and the keywords columns"
   ]
  },
  {
   "cell_type": "code",
   "execution_count": 34,
   "id": "f4c4ff4a",
   "metadata": {},
   "outputs": [
    {
     "name": "stdout",
     "output_type": "stream",
     "text": [
      "The movies dataset types are:\n",
      "budget                    int64\n",
      "genres                   object\n",
      "homepage                 object\n",
      "id                        int64\n",
      "keywords                 object\n",
      "original_language        object\n",
      "original_title           object\n",
      "overview                 object\n",
      "popularity              float64\n",
      "production_companies     object\n",
      "production_countries     object\n",
      "release_date             object\n",
      "revenue                   int64\n",
      "runtime                 float64\n",
      "spoken_languages         object\n",
      "status                   object\n",
      "tagline                  object\n",
      "title                    object\n",
      "vote_average            float64\n",
      "vote_count                int64\n",
      "dtype: object\n",
      "\n",
      "The credits dataset types are:\n",
      "movie_id     int64\n",
      "title       object\n",
      "cast        object\n",
      "crew        object\n",
      "dtype: object\n"
     ]
    }
   ],
   "source": [
    "print (f'The movies dataset types are:\\n{movies_df.dtypes}\\n')\n",
    "\n",
    "print (f'The credits dataset types are:\\n{credits_df.dtypes}')"
   ]
  },
  {
   "attachments": {},
   "cell_type": "markdown",
   "id": "d1aa6c6d",
   "metadata": {},
   "source": [
    "### Data Types\n",
    "\n",
    "**Movies:**\n",
    "- Contains some integer and float values in the dataset.\n",
    "- Most of the data types are a object.\n",
    "\n",
    "**Credits:**\n",
    "- Only one integer value column.\n",
    "- All the other data types are an object."
   ]
  },
  {
   "attachments": {},
   "cell_type": "markdown",
   "id": "d23e9db6",
   "metadata": {},
   "source": [
    "## Missing Values\n",
    "\n",
    "Summing both datasets for any missing value columns. This way we don't run into an error moving forward and are aware of the data."
   ]
  },
  {
   "cell_type": "code",
   "execution_count": 18,
   "id": "0ed77285",
   "metadata": {},
   "outputs": [
    {
     "data": {
      "text/plain": [
       "budget                     0\n",
       "genres                     0\n",
       "homepage                3091\n",
       "id                         0\n",
       "keywords                   0\n",
       "original_language          0\n",
       "original_title             0\n",
       "overview                  31\n",
       "popularity                 0\n",
       "production_companies       0\n",
       "production_countries       0\n",
       "release_date               1\n",
       "revenue                    0\n",
       "runtime                    2\n",
       "spoken_languages           0\n",
       "status                     0\n",
       "tagline                  844\n",
       "title                      0\n",
       "vote_average               0\n",
       "vote_count                 0\n",
       "dtype: int64"
      ]
     },
     "execution_count": 18,
     "metadata": {},
     "output_type": "execute_result"
    }
   ],
   "source": [
    "movies_df.isna().sum()"
   ]
  },
  {
   "cell_type": "code",
   "execution_count": 19,
   "id": "d7082058",
   "metadata": {},
   "outputs": [
    {
     "data": {
      "text/plain": [
       "movie_id    0\n",
       "title       0\n",
       "cast        0\n",
       "crew        0\n",
       "dtype: int64"
      ]
     },
     "execution_count": 19,
     "metadata": {},
     "output_type": "execute_result"
    }
   ],
   "source": [
    "credits_df.isna().sum()\n",
    "\n",
    "# The credits file is not missing any of the values"
   ]
  },
  {
   "attachments": {},
   "cell_type": "markdown",
   "id": "1210ac75",
   "metadata": {},
   "source": [
    "## ID Column\n",
    "\n",
    "Note: The **ID** column can be used later in the project to match the datasets."
   ]
  },
  {
   "cell_type": "code",
   "execution_count": 26,
   "id": "7eebd8e4",
   "metadata": {},
   "outputs": [
    {
     "data": {
      "text/plain": [
       "0     19995\n",
       "1       285\n",
       "2    206647\n",
       "3     49026\n",
       "4     49529\n",
       "Name: id, dtype: int64"
      ]
     },
     "execution_count": 26,
     "metadata": {},
     "output_type": "execute_result"
    }
   ],
   "source": [
    "movies_df['id'][:5]"
   ]
  },
  {
   "cell_type": "code",
   "execution_count": 25,
   "id": "f9998e77",
   "metadata": {},
   "outputs": [
    {
     "data": {
      "text/plain": [
       "0     19995\n",
       "1       285\n",
       "2    206647\n",
       "3     49026\n",
       "4     49529\n",
       "Name: movie_id, dtype: int64"
      ]
     },
     "execution_count": 25,
     "metadata": {},
     "output_type": "execute_result"
    }
   ],
   "source": [
    "credits_df['movie_id'][:5]"
   ]
  },
  {
   "attachments": {},
   "cell_type": "markdown",
   "id": "48871045",
   "metadata": {},
   "source": [
    "## Side-to-Side Comparison\n",
    "\n",
    "Using the first row only to see the similarities and differences between the datasets. This will help us understand how the data is organized."
   ]
  },
  {
   "cell_type": "code",
   "execution_count": 28,
   "id": "118f8ec9",
   "metadata": {},
   "outputs": [
    {
     "data": {
      "text/plain": [
       "budget                                                          237000000\n",
       "genres                  [{\"id\": 28, \"name\": \"Action\"}, {\"id\": 12, \"nam...\n",
       "homepage                                      http://www.avatarmovie.com/\n",
       "id                                                                  19995\n",
       "keywords                [{\"id\": 1463, \"name\": \"culture clash\"}, {\"id\":...\n",
       "original_language                                                      en\n",
       "original_title                                                     Avatar\n",
       "overview                In the 22nd century, a paraplegic Marine is di...\n",
       "popularity                                                     150.437577\n",
       "production_companies    [{\"name\": \"Ingenious Film Partners\", \"id\": 289...\n",
       "production_countries    [{\"iso_3166_1\": \"US\", \"name\": \"United States o...\n",
       "release_date                                                   2009-12-10\n",
       "revenue                                                        2787965087\n",
       "runtime                                                             162.0\n",
       "spoken_languages        [{\"iso_639_1\": \"en\", \"name\": \"English\"}, {\"iso...\n",
       "status                                                           Released\n",
       "tagline                                       Enter the World of Pandora.\n",
       "title                                                              Avatar\n",
       "vote_average                                                          7.2\n",
       "vote_count                                                          11800\n",
       "Name: 0, dtype: object"
      ]
     },
     "execution_count": 28,
     "metadata": {},
     "output_type": "execute_result"
    }
   ],
   "source": [
    "movies_df.loc[0]"
   ]
  },
  {
   "cell_type": "code",
   "execution_count": 29,
   "id": "2079a054",
   "metadata": {},
   "outputs": [
    {
     "data": {
      "text/plain": [
       "movie_id                                                19995\n",
       "title                                                  Avatar\n",
       "cast        [{\"cast_id\": 242, \"character\": \"Jake Sully\", \"...\n",
       "crew        [{\"credit_id\": \"52fe48009251416c750aca23\", \"de...\n",
       "Name: 0, dtype: object"
      ]
     },
     "execution_count": 29,
     "metadata": {},
     "output_type": "execute_result"
    }
   ],
   "source": [
    "credits_df.loc[0]"
   ]
  }
 ],
 "metadata": {
  "kernelspec": {
   "display_name": "Python 3",
   "language": "python",
   "name": "python3"
  },
  "language_info": {
   "codemirror_mode": {
    "name": "ipython",
    "version": 3
   },
   "file_extension": ".py",
   "mimetype": "text/x-python",
   "name": "python",
   "nbconvert_exporter": "python",
   "pygments_lexer": "ipython3",
   "version": "3.10.8"
  },
  "vscode": {
   "interpreter": {
    "hash": "d2d0a2f1beb3256eb411c5438c8012e17c3dad85f0692b805ef96ef6d83b4a89"
   }
  }
 },
 "nbformat": 4,
 "nbformat_minor": 5
}
